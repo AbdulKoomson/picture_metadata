{
 "cells": [
  {
   "cell_type": "code",
   "execution_count": 0,
   "metadata": {
    "application/vnd.databricks.v1+cell": {
     "cellMetadata": {
      "byteLimit": 2048000,
      "rowLimit": 10000
     },
     "inputWidgets": {},
     "nuid": "44d5b0d2-e2d2-48cc-abd6-2b15fe747080",
     "showTitle": false,
     "tableResultSettingsMap": {},
     "title": ""
    }
   },
   "outputs": [],
   "source": [
    "# Notebook: Main_Metadata_Processing\n",
    "\n",
    "import logging\n",
    "import os\n",
    "import uuid\n",
    "from datetime import datetime\n",
    "\n",
    "# Configure logging\n",
    "log_dir = \"/dbfs/tmp/logs\"  # Separate directory for logs\n",
    "os.makedirs(log_dir, exist_ok=True)\n",
    "log_file = os.path.join(log_dir, f\"myapp_{datetime.now().strftime('%Y%m%d_%H%M%S')}.log\")\n",
    "\n",
    "logging.basicConfig(\n",
    "    filename=log_file,\n",
    "    level=logging.INFO,\n",
    "    format='%(asctime)s - %(levelname)s - %(message)s'\n",
    ")\n",
    "logger = logging.getLogger(__name__)\n",
    "\n",
    "# Step 1: Get the latest file and download it\n",
    "try:\n",
    "    image_data_path = dbutils.notebook.run(\"Download_Image_Data\", 300, {\"containerName\": \"test\"})\n",
    "    logging.info(f\"Downloaded image data path: {image_data_path}\")\n",
    "except Exception as e:\n",
    "    logging.error(f\"Failed to run Download_Image_Data notebook: {e}\")\n",
    "    raise\n",
    "\n",
    "# Step 2: Extract metadata\n",
    "try:\n",
    "    metadata = dbutils.notebook.run(\"Extract_Metadata\", 300, {\"imageDataPath\": image_data_path})\n",
    "    logging.info(f\"Extracted metadata: {metadata}\")\n",
    "except Exception as e:\n",
    "    logging.error(f\"Failed to run Extract_Metadata notebook: {e}\")\n",
    "    raise\n",
    "\n",
    "# Step 3: Save metadata\n",
    "try:\n",
    "    dbutils.notebook.run(\"Save_Metadata\", 300, {\"metadata\": metadata, \"imageDataPath\": image_data_path})\n",
    "except Exception as e:\n",
    "    logging.error(f\"Failed to run Save_Metadata notebook: {e}\")\n",
    "    raise"
   ]
  }
 ],
 "metadata": {
  "application/vnd.databricks.v1+notebook": {
   "computePreferences": null,
   "dashboards": [],
   "environmentMetadata": {
    "base_environment": "",
    "environment_version": "2"
   },
   "inputWidgetPreferences": null,
   "language": "python",
   "notebookMetadata": {
    "pythonIndentUnit": 4
   },
   "notebookName": "Main_Metadata_Processing",
   "widgets": {}
  },
  "language_info": {
   "name": "python"
  }
 },
 "nbformat": 4,
 "nbformat_minor": 0
}