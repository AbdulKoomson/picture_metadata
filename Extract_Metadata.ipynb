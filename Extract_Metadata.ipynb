{
 "cells": [
  {
   "cell_type": "code",
   "execution_count": 0,
   "metadata": {
    "application/vnd.databricks.v1+cell": {
     "cellMetadata": {
      "byteLimit": 2048000,
      "rowLimit": 10000
     },
     "inputWidgets": {},
     "nuid": "510e488a-5f86-48b6-9c17-70b74dbc8afa",
     "showTitle": false,
     "tableResultSettingsMap": {},
     "title": ""
    }
   },
   "outputs": [],
   "source": [
    "# Notebook: Extract_Metadata\n",
    "import exifread\n",
    "from PIL import Image\n",
    "from PIL.ExifTags import TAGS, GPSTAGS\n",
    "import piexif\n",
    "import io\n",
    "import logging\n",
    "import os\n",
    "import uuid\n",
    "from datetime import datetime\n",
    "\n",
    "# Set up logging\n",
    "log_dir = \"/dbfs/tmp/logs\"  # Separate directory for logs\n",
    "os.makedirs(log_dir, exist_ok=True)\n",
    "log_file = os.path.join(log_dir, f\"myapp_{datetime.now().strftime('%Y%m%d_%H%M%S')}.log\")\n",
    "\n",
    "logging.basicConfig(\n",
    "    filename=log_file,\n",
    "    level=logging.INFO,\n",
    "    format='%(asctime)s - %(levelname)s - %(message)s'\n",
    ")\n",
    "logger = logging.getLogger(__name__)\n",
    "\n",
    "dbutils.widgets.text(\"imageDataPath\", \"\")\n",
    "\n",
    "# Read image from input path\n",
    "image_data_path = dbutils.widgets.get(\"imageDataPath\")\n",
    "image_path = image_data_path\n",
    "\n",
    "def get_all_exif_tags(image_path):\n",
    "    exif_dict = {}\n",
    "\n",
    "    # Check if the file exists\n",
    "    if not os.path.exists(image_path):\n",
    "        raise FileNotFoundError(f\"No such file or directory: '{image_path}'\")\n",
    "\n",
    "    # Load image and extract EXIF metadata\n",
    "    img = Image.open(image_path)\n",
    "    exif_data = piexif.load(img.info.get(\"exif\", b\"\"))\n",
    "\n",
    "    # Function to process EXIF data\n",
    "    def extract_tags(exif_section, tag_source):\n",
    "        for tag, value in exif_section.items():\n",
    "            tag_name = tag_source.get(tag, f\"Unknown_{tag}\")  # Default if tag name not found\n",
    "            if isinstance(value, bytes):\n",
    "                try:\n",
    "                    value = value.decode(\"utf-8\")  # Decode text values\n",
    "                except UnicodeDecodeError:\n",
    "                    value = value.hex()  # Convert binary to hex string\n",
    "            exif_dict[tag_name] = value\n",
    "\n",
    "    # Extract tags from each EXIF section\n",
    "    extract_tags(exif_data.get(\"0th\", {}), TAGS)      # Standard EXIF\n",
    "    extract_tags(exif_data.get(\"Exif\", {}), TAGS)     # Extended EXIF\n",
    "    extract_tags(exif_data.get(\"GPS\", {}), GPSTAGS)   # GPS Data\n",
    "    extract_tags(exif_data.get(\"1st\", {}), TAGS)      # Thumbnail EXIF\n",
    "    extract_tags(exif_data.get(\"Interop\", {}), TAGS)  # Interoperability metadata\n",
    "\n",
    "    # Fill missing tags with None (all known EXIF tags)\n",
    "    all_exif_tags = set(TAGS.values()) | set(GPSTAGS.values())\n",
    "    for tag_name in all_exif_tags:\n",
    "        exif_dict.setdefault(tag_name, None)\n",
    "\n",
    "    # Use exifread to extract MakerNotes and other private metadata\n",
    "    with open(image_path, \"rb\") as f:\n",
    "        tags = exifread.process_file(f)\n",
    "        for tag, value in tags.items():\n",
    "            exif_dict[tag] = str(value)\n",
    "\n",
    "    return exif_dict\n",
    "\n",
    "# Function call\n",
    "metadata = get_all_exif_tags(image_path)\n",
    "\n",
    "# Log metadata\n",
    "logger.info(f\"Extracted image metadata: {metadata}\")\n",
    "\n",
    "dbutils.notebook.exit(metadata)"
   ]
  }
 ],
 "metadata": {
  "application/vnd.databricks.v1+notebook": {
   "computePreferences": null,
   "dashboards": [],
   "environmentMetadata": {
    "base_environment": "",
    "environment_version": "2"
   },
   "inputWidgetPreferences": null,
   "language": "python",
   "notebookMetadata": {
    "pythonIndentUnit": 4
   },
   "notebookName": "Extract_Metadata",
   "widgets": {
    "imageDataPath": {
     "currentValue": "",
     "nuid": "b7d05162-9cba-47cb-952b-1360f4e5e223",
     "typedWidgetInfo": {
      "autoCreated": false,
      "defaultValue": "",
      "label": null,
      "name": "imageDataPath",
      "options": {
       "validationRegex": null,
       "widgetDisplayType": "Text"
      },
      "parameterDataType": "String"
     },
     "widgetInfo": {
      "defaultValue": "",
      "label": null,
      "name": "imageDataPath",
      "options": {
       "autoCreated": false,
       "validationRegex": null,
       "widgetType": "text"
      },
      "widgetType": "text"
     }
    }
   }
  },
  "language_info": {
   "name": "python"
  }
 },
 "nbformat": 4,
 "nbformat_minor": 0
}
